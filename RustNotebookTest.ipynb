{
 "cells": [
  {
   "cell_type": "markdown",
   "id": "742c71e1-d717-4dea-9ab1-121530a6f8b5",
   "metadata": {},
   "source": [
    "# Rust Notebook Test"
   ]
  },
  {
   "cell_type": "code",
   "execution_count": 2,
   "id": "4f45dd41-16f9-44f9-9adb-93d117265d1f",
   "metadata": {
    "tags": []
   },
   "outputs": [],
   "source": [
    ":dep itertools = { version = \"0.10.5\" }"
   ]
  },
  {
   "cell_type": "code",
   "execution_count": 3,
   "id": "c8bf007b-3dd0-4764-b429-bc734d64efbe",
   "metadata": {
    "tags": []
   },
   "outputs": [],
   "source": [
    "use itertools::Itertools;"
   ]
  },
  {
   "cell_type": "code",
   "execution_count": 5,
   "id": "b6c484e8-93e0-4c18-b9a8-751867ae056a",
   "metadata": {
    "tags": []
   },
   "outputs": [
    {
     "name": "stdout",
     "output_type": "stream",
     "text": [
      "lower: a b\n",
      "upper: C\n",
      "lower: d\n",
      "upper: E F G\n"
     ]
    },
    {
     "data": {
      "text/plain": [
       "()"
      ]
     },
     "execution_count": 5,
     "metadata": {},
     "output_type": "execute_result"
    }
   ],
   "source": [
    "let chars = ['a', 'b', 'C', 'd', 'E', 'F', 'G'];\n",
    "\n",
    "for (is_upper, group) in & chars.into_iter().group_by(|ch| ch.is_uppercase()) {\n",
    "    print!(\"{}:\", if is_upper { \"upper\" } else { \"lower\" });\n",
    "    \n",
    "    for ch in group {\n",
    "        print!(\" {ch}\");\n",
    "    }\n",
    "    \n",
    "    println!();\n",
    "}"
   ]
  },
  {
   "cell_type": "code",
   "execution_count": null,
   "id": "5de9b597-194a-4712-a3e5-7724afeb7252",
   "metadata": {},
   "outputs": [],
   "source": []
  }
 ],
 "metadata": {
  "kernelspec": {
   "display_name": "Rust",
   "language": "rust",
   "name": "rust"
  },
  "language_info": {
   "codemirror_mode": "rust",
   "file_extension": ".rs",
   "mimetype": "text/rust",
   "name": "Rust",
   "pygment_lexer": "rust",
   "version": ""
  }
 },
 "nbformat": 4,
 "nbformat_minor": 5
}
